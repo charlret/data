{
 "cells": [
  {
   "cell_type": "code",
   "execution_count": 65,
   "metadata": {},
   "outputs": [],
   "source": [
    "import datetime as d\n",
    "import pandas"
   ]
  },
  {
   "cell_type": "code",
   "execution_count": 67,
   "metadata": {},
   "outputs": [
    {
     "name": "stderr",
     "output_type": "stream",
     "text": [
      "<>:1: SyntaxWarning: invalid escape sequence '\\P'\n",
      "<>:1: SyntaxWarning: invalid escape sequence '\\P'\n",
      "/tmp/ipykernel_19382/2786563815.py:1: SyntaxWarning: invalid escape sequence '\\P'\n",
      "  df = pandas.read_csv('D:\\ProjetData\\Basedecembre2018.zst')\n",
      "/tmp/ipykernel_19382/2786563815.py:1: SyntaxWarning: invalid escape sequence '\\P'\n",
      "  df = pandas.read_csv('D:\\ProjetData\\Basedecembre2018.zst')\n"
     ]
    },
    {
     "ename": "FileNotFoundError",
     "evalue": "[Errno 2] No such file or directory: 'D:\\\\ProjetData\\\\Basedecembre2018.zst'",
     "output_type": "error",
     "traceback": [
      "\u001b[0;31m---------------------------------------------------------------------------\u001b[0m",
      "\u001b[0;31mFileNotFoundError\u001b[0m                         Traceback (most recent call last)",
      "Cell \u001b[0;32mIn[67], line 1\u001b[0m\n\u001b[0;32m----> 1\u001b[0m df \u001b[38;5;241m=\u001b[39m \u001b[43mpandas\u001b[49m\u001b[38;5;241;43m.\u001b[39;49m\u001b[43mread_csv\u001b[49m\u001b[43m(\u001b[49m\u001b[38;5;124;43m'\u001b[39;49m\u001b[38;5;124;43mD:\u001b[39;49m\u001b[38;5;124;43m\\\u001b[39;49m\u001b[38;5;124;43mProjetData\u001b[39;49m\u001b[38;5;124;43m\\\u001b[39;49m\u001b[38;5;124;43mBasedecembre2018.zst\u001b[39;49m\u001b[38;5;124;43m'\u001b[39;49m\u001b[43m)\u001b[49m\n",
      "File \u001b[0;32m/opt/conda/lib/python3.12/site-packages/pandas/io/parsers/readers.py:1026\u001b[0m, in \u001b[0;36mread_csv\u001b[0;34m(filepath_or_buffer, sep, delimiter, header, names, index_col, usecols, dtype, engine, converters, true_values, false_values, skipinitialspace, skiprows, skipfooter, nrows, na_values, keep_default_na, na_filter, verbose, skip_blank_lines, parse_dates, infer_datetime_format, keep_date_col, date_parser, date_format, dayfirst, cache_dates, iterator, chunksize, compression, thousands, decimal, lineterminator, quotechar, quoting, doublequote, escapechar, comment, encoding, encoding_errors, dialect, on_bad_lines, delim_whitespace, low_memory, memory_map, float_precision, storage_options, dtype_backend)\u001b[0m\n\u001b[1;32m   1013\u001b[0m kwds_defaults \u001b[38;5;241m=\u001b[39m _refine_defaults_read(\n\u001b[1;32m   1014\u001b[0m     dialect,\n\u001b[1;32m   1015\u001b[0m     delimiter,\n\u001b[0;32m   (...)\u001b[0m\n\u001b[1;32m   1022\u001b[0m     dtype_backend\u001b[38;5;241m=\u001b[39mdtype_backend,\n\u001b[1;32m   1023\u001b[0m )\n\u001b[1;32m   1024\u001b[0m kwds\u001b[38;5;241m.\u001b[39mupdate(kwds_defaults)\n\u001b[0;32m-> 1026\u001b[0m \u001b[38;5;28;01mreturn\u001b[39;00m \u001b[43m_read\u001b[49m\u001b[43m(\u001b[49m\u001b[43mfilepath_or_buffer\u001b[49m\u001b[43m,\u001b[49m\u001b[43m \u001b[49m\u001b[43mkwds\u001b[49m\u001b[43m)\u001b[49m\n",
      "File \u001b[0;32m/opt/conda/lib/python3.12/site-packages/pandas/io/parsers/readers.py:620\u001b[0m, in \u001b[0;36m_read\u001b[0;34m(filepath_or_buffer, kwds)\u001b[0m\n\u001b[1;32m    617\u001b[0m _validate_names(kwds\u001b[38;5;241m.\u001b[39mget(\u001b[38;5;124m\"\u001b[39m\u001b[38;5;124mnames\u001b[39m\u001b[38;5;124m\"\u001b[39m, \u001b[38;5;28;01mNone\u001b[39;00m))\n\u001b[1;32m    619\u001b[0m \u001b[38;5;66;03m# Create the parser.\u001b[39;00m\n\u001b[0;32m--> 620\u001b[0m parser \u001b[38;5;241m=\u001b[39m \u001b[43mTextFileReader\u001b[49m\u001b[43m(\u001b[49m\u001b[43mfilepath_or_buffer\u001b[49m\u001b[43m,\u001b[49m\u001b[43m \u001b[49m\u001b[38;5;241;43m*\u001b[39;49m\u001b[38;5;241;43m*\u001b[39;49m\u001b[43mkwds\u001b[49m\u001b[43m)\u001b[49m\n\u001b[1;32m    622\u001b[0m \u001b[38;5;28;01mif\u001b[39;00m chunksize \u001b[38;5;129;01mor\u001b[39;00m iterator:\n\u001b[1;32m    623\u001b[0m     \u001b[38;5;28;01mreturn\u001b[39;00m parser\n",
      "File \u001b[0;32m/opt/conda/lib/python3.12/site-packages/pandas/io/parsers/readers.py:1620\u001b[0m, in \u001b[0;36mTextFileReader.__init__\u001b[0;34m(self, f, engine, **kwds)\u001b[0m\n\u001b[1;32m   1617\u001b[0m     \u001b[38;5;28mself\u001b[39m\u001b[38;5;241m.\u001b[39moptions[\u001b[38;5;124m\"\u001b[39m\u001b[38;5;124mhas_index_names\u001b[39m\u001b[38;5;124m\"\u001b[39m] \u001b[38;5;241m=\u001b[39m kwds[\u001b[38;5;124m\"\u001b[39m\u001b[38;5;124mhas_index_names\u001b[39m\u001b[38;5;124m\"\u001b[39m]\n\u001b[1;32m   1619\u001b[0m \u001b[38;5;28mself\u001b[39m\u001b[38;5;241m.\u001b[39mhandles: IOHandles \u001b[38;5;241m|\u001b[39m \u001b[38;5;28;01mNone\u001b[39;00m \u001b[38;5;241m=\u001b[39m \u001b[38;5;28;01mNone\u001b[39;00m\n\u001b[0;32m-> 1620\u001b[0m \u001b[38;5;28mself\u001b[39m\u001b[38;5;241m.\u001b[39m_engine \u001b[38;5;241m=\u001b[39m \u001b[38;5;28;43mself\u001b[39;49m\u001b[38;5;241;43m.\u001b[39;49m\u001b[43m_make_engine\u001b[49m\u001b[43m(\u001b[49m\u001b[43mf\u001b[49m\u001b[43m,\u001b[49m\u001b[43m \u001b[49m\u001b[38;5;28;43mself\u001b[39;49m\u001b[38;5;241;43m.\u001b[39;49m\u001b[43mengine\u001b[49m\u001b[43m)\u001b[49m\n",
      "File \u001b[0;32m/opt/conda/lib/python3.12/site-packages/pandas/io/parsers/readers.py:1880\u001b[0m, in \u001b[0;36mTextFileReader._make_engine\u001b[0;34m(self, f, engine)\u001b[0m\n\u001b[1;32m   1878\u001b[0m     \u001b[38;5;28;01mif\u001b[39;00m \u001b[38;5;124m\"\u001b[39m\u001b[38;5;124mb\u001b[39m\u001b[38;5;124m\"\u001b[39m \u001b[38;5;129;01mnot\u001b[39;00m \u001b[38;5;129;01min\u001b[39;00m mode:\n\u001b[1;32m   1879\u001b[0m         mode \u001b[38;5;241m+\u001b[39m\u001b[38;5;241m=\u001b[39m \u001b[38;5;124m\"\u001b[39m\u001b[38;5;124mb\u001b[39m\u001b[38;5;124m\"\u001b[39m\n\u001b[0;32m-> 1880\u001b[0m \u001b[38;5;28mself\u001b[39m\u001b[38;5;241m.\u001b[39mhandles \u001b[38;5;241m=\u001b[39m \u001b[43mget_handle\u001b[49m\u001b[43m(\u001b[49m\n\u001b[1;32m   1881\u001b[0m \u001b[43m    \u001b[49m\u001b[43mf\u001b[49m\u001b[43m,\u001b[49m\n\u001b[1;32m   1882\u001b[0m \u001b[43m    \u001b[49m\u001b[43mmode\u001b[49m\u001b[43m,\u001b[49m\n\u001b[1;32m   1883\u001b[0m \u001b[43m    \u001b[49m\u001b[43mencoding\u001b[49m\u001b[38;5;241;43m=\u001b[39;49m\u001b[38;5;28;43mself\u001b[39;49m\u001b[38;5;241;43m.\u001b[39;49m\u001b[43moptions\u001b[49m\u001b[38;5;241;43m.\u001b[39;49m\u001b[43mget\u001b[49m\u001b[43m(\u001b[49m\u001b[38;5;124;43m\"\u001b[39;49m\u001b[38;5;124;43mencoding\u001b[39;49m\u001b[38;5;124;43m\"\u001b[39;49m\u001b[43m,\u001b[49m\u001b[43m \u001b[49m\u001b[38;5;28;43;01mNone\u001b[39;49;00m\u001b[43m)\u001b[49m\u001b[43m,\u001b[49m\n\u001b[1;32m   1884\u001b[0m \u001b[43m    \u001b[49m\u001b[43mcompression\u001b[49m\u001b[38;5;241;43m=\u001b[39;49m\u001b[38;5;28;43mself\u001b[39;49m\u001b[38;5;241;43m.\u001b[39;49m\u001b[43moptions\u001b[49m\u001b[38;5;241;43m.\u001b[39;49m\u001b[43mget\u001b[49m\u001b[43m(\u001b[49m\u001b[38;5;124;43m\"\u001b[39;49m\u001b[38;5;124;43mcompression\u001b[39;49m\u001b[38;5;124;43m\"\u001b[39;49m\u001b[43m,\u001b[49m\u001b[43m \u001b[49m\u001b[38;5;28;43;01mNone\u001b[39;49;00m\u001b[43m)\u001b[49m\u001b[43m,\u001b[49m\n\u001b[1;32m   1885\u001b[0m \u001b[43m    \u001b[49m\u001b[43mmemory_map\u001b[49m\u001b[38;5;241;43m=\u001b[39;49m\u001b[38;5;28;43mself\u001b[39;49m\u001b[38;5;241;43m.\u001b[39;49m\u001b[43moptions\u001b[49m\u001b[38;5;241;43m.\u001b[39;49m\u001b[43mget\u001b[49m\u001b[43m(\u001b[49m\u001b[38;5;124;43m\"\u001b[39;49m\u001b[38;5;124;43mmemory_map\u001b[39;49m\u001b[38;5;124;43m\"\u001b[39;49m\u001b[43m,\u001b[49m\u001b[43m \u001b[49m\u001b[38;5;28;43;01mFalse\u001b[39;49;00m\u001b[43m)\u001b[49m\u001b[43m,\u001b[49m\n\u001b[1;32m   1886\u001b[0m \u001b[43m    \u001b[49m\u001b[43mis_text\u001b[49m\u001b[38;5;241;43m=\u001b[39;49m\u001b[43mis_text\u001b[49m\u001b[43m,\u001b[49m\n\u001b[1;32m   1887\u001b[0m \u001b[43m    \u001b[49m\u001b[43merrors\u001b[49m\u001b[38;5;241;43m=\u001b[39;49m\u001b[38;5;28;43mself\u001b[39;49m\u001b[38;5;241;43m.\u001b[39;49m\u001b[43moptions\u001b[49m\u001b[38;5;241;43m.\u001b[39;49m\u001b[43mget\u001b[49m\u001b[43m(\u001b[49m\u001b[38;5;124;43m\"\u001b[39;49m\u001b[38;5;124;43mencoding_errors\u001b[39;49m\u001b[38;5;124;43m\"\u001b[39;49m\u001b[43m,\u001b[49m\u001b[43m \u001b[49m\u001b[38;5;124;43m\"\u001b[39;49m\u001b[38;5;124;43mstrict\u001b[39;49m\u001b[38;5;124;43m\"\u001b[39;49m\u001b[43m)\u001b[49m\u001b[43m,\u001b[49m\n\u001b[1;32m   1888\u001b[0m \u001b[43m    \u001b[49m\u001b[43mstorage_options\u001b[49m\u001b[38;5;241;43m=\u001b[39;49m\u001b[38;5;28;43mself\u001b[39;49m\u001b[38;5;241;43m.\u001b[39;49m\u001b[43moptions\u001b[49m\u001b[38;5;241;43m.\u001b[39;49m\u001b[43mget\u001b[49m\u001b[43m(\u001b[49m\u001b[38;5;124;43m\"\u001b[39;49m\u001b[38;5;124;43mstorage_options\u001b[39;49m\u001b[38;5;124;43m\"\u001b[39;49m\u001b[43m,\u001b[49m\u001b[43m \u001b[49m\u001b[38;5;28;43;01mNone\u001b[39;49;00m\u001b[43m)\u001b[49m\u001b[43m,\u001b[49m\n\u001b[1;32m   1889\u001b[0m \u001b[43m\u001b[49m\u001b[43m)\u001b[49m\n\u001b[1;32m   1890\u001b[0m \u001b[38;5;28;01massert\u001b[39;00m \u001b[38;5;28mself\u001b[39m\u001b[38;5;241m.\u001b[39mhandles \u001b[38;5;129;01mis\u001b[39;00m \u001b[38;5;129;01mnot\u001b[39;00m \u001b[38;5;28;01mNone\u001b[39;00m\n\u001b[1;32m   1891\u001b[0m f \u001b[38;5;241m=\u001b[39m \u001b[38;5;28mself\u001b[39m\u001b[38;5;241m.\u001b[39mhandles\u001b[38;5;241m.\u001b[39mhandle\n",
      "File \u001b[0;32m/opt/conda/lib/python3.12/site-packages/pandas/io/common.py:854\u001b[0m, in \u001b[0;36mget_handle\u001b[0;34m(path_or_buf, mode, encoding, compression, memory_map, is_text, errors, storage_options)\u001b[0m\n\u001b[1;32m    852\u001b[0m     \u001b[38;5;28;01melse\u001b[39;00m:\n\u001b[1;32m    853\u001b[0m         open_args \u001b[38;5;241m=\u001b[39m {\u001b[38;5;124m\"\u001b[39m\u001b[38;5;124mcctx\u001b[39m\u001b[38;5;124m\"\u001b[39m: zstd\u001b[38;5;241m.\u001b[39mZstdCompressor(\u001b[38;5;241m*\u001b[39m\u001b[38;5;241m*\u001b[39mcompression_args)}\n\u001b[0;32m--> 854\u001b[0m     handle \u001b[38;5;241m=\u001b[39m \u001b[43mzstd\u001b[49m\u001b[38;5;241;43m.\u001b[39;49m\u001b[43mopen\u001b[49m\u001b[43m(\u001b[49m\n\u001b[1;32m    855\u001b[0m \u001b[43m        \u001b[49m\u001b[43mhandle\u001b[49m\u001b[43m,\u001b[49m\n\u001b[1;32m    856\u001b[0m \u001b[43m        \u001b[49m\u001b[43mmode\u001b[49m\u001b[38;5;241;43m=\u001b[39;49m\u001b[43mioargs\u001b[49m\u001b[38;5;241;43m.\u001b[39;49m\u001b[43mmode\u001b[49m\u001b[43m,\u001b[49m\n\u001b[1;32m    857\u001b[0m \u001b[43m        \u001b[49m\u001b[38;5;241;43m*\u001b[39;49m\u001b[38;5;241;43m*\u001b[39;49m\u001b[43mopen_args\u001b[49m\u001b[43m,\u001b[49m\n\u001b[1;32m    858\u001b[0m \u001b[43m    \u001b[49m\u001b[43m)\u001b[49m\n\u001b[1;32m    860\u001b[0m \u001b[38;5;66;03m# Unrecognized Compression\u001b[39;00m\n\u001b[1;32m    861\u001b[0m \u001b[38;5;28;01melse\u001b[39;00m:\n\u001b[1;32m    862\u001b[0m     msg \u001b[38;5;241m=\u001b[39m \u001b[38;5;124mf\u001b[39m\u001b[38;5;124m\"\u001b[39m\u001b[38;5;124mUnrecognized compression type: \u001b[39m\u001b[38;5;132;01m{\u001b[39;00mcompression\u001b[38;5;132;01m}\u001b[39;00m\u001b[38;5;124m\"\u001b[39m\n",
      "File \u001b[0;32m/opt/conda/lib/python3.12/site-packages/zstandard/__init__.py:152\u001b[0m, in \u001b[0;36mopen\u001b[0;34m(filename, mode, cctx, dctx, encoding, errors, newline, closefd)\u001b[0m\n\u001b[1;32m    149\u001b[0m     types \u001b[38;5;241m=\u001b[39m (\u001b[38;5;28mstr\u001b[39m, \u001b[38;5;28mbytes\u001b[39m)\n\u001b[1;32m    151\u001b[0m \u001b[38;5;28;01mif\u001b[39;00m \u001b[38;5;28misinstance\u001b[39m(filename, types):  \u001b[38;5;66;03m# type: ignore\u001b[39;00m\n\u001b[0;32m--> 152\u001b[0m     inner_fh \u001b[38;5;241m=\u001b[39m \u001b[43mbuiltins\u001b[49m\u001b[38;5;241;43m.\u001b[39;49m\u001b[43mopen\u001b[49m\u001b[43m(\u001b[49m\u001b[43mfilename\u001b[49m\u001b[43m,\u001b[49m\u001b[43m \u001b[49m\u001b[43mraw_open_mode\u001b[49m\u001b[43m)\u001b[49m\n\u001b[1;32m    153\u001b[0m     closefd \u001b[38;5;241m=\u001b[39m \u001b[38;5;28;01mTrue\u001b[39;00m\n\u001b[1;32m    154\u001b[0m \u001b[38;5;28;01melif\u001b[39;00m \u001b[38;5;28mhasattr\u001b[39m(filename, \u001b[38;5;124m\"\u001b[39m\u001b[38;5;124mread\u001b[39m\u001b[38;5;124m\"\u001b[39m) \u001b[38;5;129;01mor\u001b[39;00m \u001b[38;5;28mhasattr\u001b[39m(filename, \u001b[38;5;124m\"\u001b[39m\u001b[38;5;124mwrite\u001b[39m\u001b[38;5;124m\"\u001b[39m):\n",
      "\u001b[0;31mFileNotFoundError\u001b[0m: [Errno 2] No such file or directory: 'D:\\\\ProjetData\\\\Basedecembre2018.zst'"
     ]
    }
   ],
   "source": [
    "df = pandas.read_csv('D:\\ProjetData\\Basedecembre2018.zst')"
   ]
  },
  {
   "cell_type": "code",
   "execution_count": 1,
   "metadata": {},
   "outputs": [
    {
     "name": "stdout",
     "output_type": "stream",
     "text": [
      "Collecting berserk\n",
      "  Downloading berserk-0.13.2-py3-none-any.whl.metadata (8.5 kB)\n",
      "Requirement already satisfied: deprecated<2.0.0,>=1.2.14 in /opt/conda/lib/python3.12/site-packages (from berserk) (1.2.15)\n",
      "Collecting ndjson<0.4.0,>=0.3.1 (from berserk)\n",
      "  Downloading ndjson-0.3.1-py2.py3-none-any.whl.metadata (3.2 kB)\n",
      "Requirement already satisfied: python-dateutil<3.0.0,>=2.8.2 in /opt/conda/lib/python3.12/site-packages (from berserk) (2.9.0.post0)\n",
      "Requirement already satisfied: requests<3.0.0,>=2.28.2 in /opt/conda/lib/python3.12/site-packages (from berserk) (2.32.3)\n",
      "Requirement already satisfied: typing-extensions<5.0.0,>=4.7.1 in /opt/conda/lib/python3.12/site-packages (from berserk) (4.12.2)\n",
      "Requirement already satisfied: wrapt<2,>=1.10 in /opt/conda/lib/python3.12/site-packages (from deprecated<2.0.0,>=1.2.14->berserk) (1.17.0)\n",
      "Requirement already satisfied: six>=1.5 in /opt/conda/lib/python3.12/site-packages (from python-dateutil<3.0.0,>=2.8.2->berserk) (1.17.0)\n",
      "Requirement already satisfied: charset_normalizer<4,>=2 in /opt/conda/lib/python3.12/site-packages (from requests<3.0.0,>=2.28.2->berserk) (3.4.0)\n",
      "Requirement already satisfied: idna<4,>=2.5 in /opt/conda/lib/python3.12/site-packages (from requests<3.0.0,>=2.28.2->berserk) (3.10)\n",
      "Requirement already satisfied: urllib3<3,>=1.21.1 in /opt/conda/lib/python3.12/site-packages (from requests<3.0.0,>=2.28.2->berserk) (2.2.3)\n",
      "Requirement already satisfied: certifi>=2017.4.17 in /opt/conda/lib/python3.12/site-packages (from requests<3.0.0,>=2.28.2->berserk) (2024.8.30)\n",
      "Downloading berserk-0.13.2-py3-none-any.whl (74 kB)\n",
      "Downloading ndjson-0.3.1-py2.py3-none-any.whl (5.3 kB)\n",
      "Installing collected packages: ndjson, berserk\n",
      "Successfully installed berserk-0.13.2 ndjson-0.3.1\n"
     ]
    }
   ],
   "source": [
    "!pip install berserk"
   ]
  },
  {
   "cell_type": "code",
   "execution_count": 4,
   "metadata": {},
   "outputs": [],
   "source": [
    "token=\"lip_Ok2rwW9r2XwD9UuNHCTm\" "
   ]
  },
  {
   "cell_type": "code",
   "execution_count": 2,
   "metadata": {},
   "outputs": [],
   "source": [
    "import berserk as br"
   ]
  },
  {
   "cell_type": "code",
   "execution_count": 6,
   "metadata": {},
   "outputs": [],
   "source": [
    "session = br.TokenSession(token)\n",
    "client = br.Client(session=session)"
   ]
  },
  {
   "cell_type": "code",
   "execution_count": 7,
   "metadata": {},
   "outputs": [
    {
     "name": "stdout",
     "output_type": "stream",
     "text": [
      "Collecting chess\n",
      "  Downloading chess-1.11.1.tar.gz (156 kB)\n",
      "  Preparing metadata (setup.py) ... \u001b[?25ldone\n",
      "\u001b[?25hBuilding wheels for collected packages: chess\n",
      "  Building wheel for chess (setup.py) ... \u001b[?25ldone\n",
      "\u001b[?25h  Created wheel for chess: filename=chess-1.11.1-py3-none-any.whl size=148496 sha256=8326c7d116ac4ce17fbe13dd8de4c69ad4b4fcbb99ccc37da97f6d6891cef939\n",
      "  Stored in directory: /home/onyxia/.cache/pip/wheels/84/8b/6c/94b05653eadf8766c01d0ccc56e866c570346c5ea36b3db6f3\n",
      "Successfully built chess\n",
      "Installing collected packages: chess\n",
      "Successfully installed chess-1.11.1\n"
     ]
    }
   ],
   "source": [
    "!pip install chess"
   ]
  },
  {
   "cell_type": "code",
   "execution_count": 8,
   "metadata": {},
   "outputs": [],
   "source": [
    "import chess"
   ]
  },
  {
   "cell_type": "code",
   "execution_count": 57,
   "metadata": {},
   "outputs": [],
   "source": [
    "start = br.utils.to_millis(d.datetime(2020, 12, 22))\n",
    "end = br.utils.to_millis(d.datetime(2024, 10, 31 ))\n",
    "games = client.games.export_by_player(\"paul_et_mike\", since=int(start), until=int(end), max=20000)\n",
    "Base=''.join([str(x) for x in games])"
   ]
  },
  {
   "cell_type": "code",
   "execution_count": 64,
   "metadata": {},
   "outputs": [
    {
     "name": "stdout",
     "output_type": "stream",
     "text": [
      "{'id': 'ltIJ6933', 'rated': True, 'variant': 'standard', 'speed': 'blitz', 'perf': 'blitz', 'createdAt': datetime.datetime(2024, 10, 30, 20, 52, 45, 442000, tzinfo=datetime.timezone.utc), 'lastMoveAt': datetime.datetime(2024, 10, 30, 21, 6, 46, 601000, tzinfo=datetime.timezone.utc), 'status': 'outoftime', 'source': 'pool', 'players': {'white': {'user': {'name': 'paul_et_mike', 'id': 'paul_et_mike'}, 'rating': 1848, 'ratingDiff': 6}, 'black': {'user': {'name': 'ambesten', 'id': 'ambesten'}, 'rating': 1872, 'ratingDiff': -6}}, 'winner': 'white', 'moves': 'e4 e6 d4 b6 c4 Bb7 Nc3 Bb4 Bd3 Bxc3+ bxc3 h6 Nf3 Nf6 Qe2 Qe7 O-O Qf8 h3 g5 a4 Qg7 a5 g4 hxg4 Nxg4 Ne1 Rg8 f3 Nf6 axb6 cxb6 c5 Nh5 Rf2 Ng3 Qe3 h5 cxb6 a6 d5 Qxc3 dxe6 Qxa1 exf7+ Kxf7 Qf4+ Qf6 Qc7 Bc6 Bc4+ Qe6 Bxe6+ Kxe6 e5 Nf5 b7 Ra7 Nd3 a5 Nf4+ Ke7 e6 Rxb7 Ba3+ Kf6 Nxh5+ Kg5 Qxa5 dxe6 Nf4 Kxf4 Qd2+ Kg3 Qc3 Rb1+ Rf1 Rxf1+ Kxf1 Kh2 Qe5+ Ng3+ Kf2 Bd5 Bd6', 'clock': {'initial': 300, 'increment': 3, 'totalTime': 420}}{'id': '7PdZ7cE7', 'rated': True, 'variant': 'standard', 'speed': 'blitz', 'perf': 'blitz', 'createdAt': datetime.datetime(2024, 10, 30, 20, 50, 48, 834000, tzinfo=datetime.timezone.utc), 'lastMoveAt': datetime.datetime(2024, 10, 30, 20, 52, 40, 842000, tzinfo=datetime.timezone.utc), 'status': 'resign', 'source': 'pool', 'players': {'white': {'user': {'name': 'ambesten', 'id': 'ambesten'}, 'rating': 1866, 'ratingDiff': 6}, 'black': {'user': {'name': 'paul_et_mike', 'id': 'paul_et_mike'}, 'rating': 1853, 'ratingDiff': -5}}, 'winner': 'white', 'moves': 'e3 e5 b3 Nf6 Bb2 d6 h3 Be7 Nf3 Nc6 Nh2 Be6 Ng4 Qd7 Nc3 Bxg4 hxg4 Qxg4 Qxg4 Nxg4 Be2 Nf6 O-O-O O-O-O Bb5 Nb8 Rdg1 a6 Bd3 Nc6 Rh2 h6 Rgh1 Ng4 Bf5+ Kb8 Bxg4', 'clock': {'initial': 300, 'increment': 3, 'totalTime': 420}}{'id': 'AJWzI6Qr', 'rated': True, 'variant': 'standard', 'speed': 'blitz', 'perf': 'blitz', 'createdAt': datetime.datetime(2024, 10, 30, 20, 33, 57, 622000, tzinfo=datetime.timezone.utc), 'lastMoveAt': datetime.datetime(2024, 10, 30, 20, 50, 43, 774000, tzinfo=datetime.timezone.utc), 'status': 'draw', 'source': 'pool', 'players': {'white': {'user': {'name': 'paul_et_mike', 'id': 'paul_et_mike'}, 'rating': 1853, 'ratingDiff': 0}, 'black': {'user': {'name': 'ambesten', 'id': 'ambesten'}, 'rating': 1867, 'ratingDiff': -1}}, 'moves': 'e4 e6 d4 b6 c4 Bb7 Bd3 Nf6 Qe2 Bb4+ Bd2 Bxd2+ Nxd2 Nc6 Ngf3 Nh5 g3 Qe7 a3 O-O-O b4 Rdg8 d5 Nd8 O-O e5 c5 bxc5 bxc5 Qxc5 Rfc1 Qa5 Nc4 Qa4 Nd6+ Kb8 Nxb7 Nxb7 Rc4 Qa5 Rac1 Rc8 Nxe5 Nf6 Rb4 Ka8 Rcb1 Rb8 Ba6 Nc5 Rxb8+ Rxb8 Rxb8+ Kxb8 Qb2+ Ka8 Bd3 Qe1+ Kg2 Ncxe4 Bxe4 Qxe4+ f3 Qxd5 Qe2 d6 Nd3 c5 Qe7 Qxd3 Qd8+ Kb7 Qe7+ Kc6 Qxf7 Qe2+ Kh3 Qf1+ Kh4 Qxf3 Qxg7 Qe4+ Kh3 Qf5+ Kg2 Ng4 Qxa7 Qf2+ Kh3 Nxh2 Qa6+ Kd7 Qb7+ Ke6 Qe4+ Kf6 Qh4+ Ke5 Qe7+ Kd5 Qb7+ Kd4 Qg7+ Ke3 Qc3+ Ke2 Qc2+ Kf1 Qc1+ Qe1 Qf4+ Kg1 Qxd6 Qf1+ Kh4 Nf3+ Kg4 Qe2 Qxc5+ Kg2 Qd5 Kf2 Qc5+ Kf1 Qc1+ Ne1+ Kf5 Qf3+ Qf4 Qxf4+ Kxf4 Nd3+ Kg5 Kg2 g4 Kg3 Kh5 Ne5 g5 Kf4 Kh6 Kf5 Kxh7 Kxg5 a4 Kf6 Kg8 Ke6 Kf8 Kd6 Ke8 Kc5 Ke7 Kb4 Ke6 Nc6 Kd6 Na5 Kc7 Kxa4', 'clock': {'initi\n"
     ]
    }
   ],
   "source": [
    "print(Base[0:3000])"
   ]
  }
 ],
 "metadata": {
  "kernelspec": {
   "display_name": "base",
   "language": "python",
   "name": "python3"
  },
  "language_info": {
   "codemirror_mode": {
    "name": "ipython",
    "version": 3
   },
   "file_extension": ".py",
   "mimetype": "text/x-python",
   "name": "python",
   "nbconvert_exporter": "python",
   "pygments_lexer": "ipython3",
   "version": "3.12.7"
  }
 },
 "nbformat": 4,
 "nbformat_minor": 2
}
