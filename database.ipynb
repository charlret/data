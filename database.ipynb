{
 "cells": [
  {
   "cell_type": "markdown",
   "metadata": {},
   "source": [
    "Import des modules nécessaires"
   ]
  },
  {
   "cell_type": "code",
   "execution_count": 10,
   "metadata": {},
   "outputs": [
    {
     "name": "stdout",
     "output_type": "stream",
     "text": [
      "Requirement already satisfied: chess in /opt/conda/lib/python3.12/site-packages (1.11.1)\n"
     ]
    }
   ],
   "source": [
    "!pip install chess"
   ]
  },
  {
   "cell_type": "code",
   "execution_count": 6,
   "metadata": {},
   "outputs": [
    {
     "name": "stdout",
     "output_type": "stream",
     "text": [
      "Requirement already satisfied: berserk in /opt/conda/lib/python3.12/site-packages (0.13.2)\n",
      "Requirement already satisfied: deprecated<2.0.0,>=1.2.14 in /opt/conda/lib/python3.12/site-packages (from berserk) (1.2.15)\n",
      "Requirement already satisfied: ndjson<0.4.0,>=0.3.1 in /opt/conda/lib/python3.12/site-packages (from berserk) (0.3.1)\n",
      "Requirement already satisfied: python-dateutil<3.0.0,>=2.8.2 in /opt/conda/lib/python3.12/site-packages (from berserk) (2.9.0.post0)\n",
      "Requirement already satisfied: requests<3.0.0,>=2.28.2 in /opt/conda/lib/python3.12/site-packages (from berserk) (2.32.3)\n",
      "Requirement already satisfied: typing-extensions<5.0.0,>=4.7.1 in /opt/conda/lib/python3.12/site-packages (from berserk) (4.12.2)\n",
      "Requirement already satisfied: wrapt<2,>=1.10 in /opt/conda/lib/python3.12/site-packages (from deprecated<2.0.0,>=1.2.14->berserk) (1.17.0)\n",
      "Requirement already satisfied: six>=1.5 in /opt/conda/lib/python3.12/site-packages (from python-dateutil<3.0.0,>=2.8.2->berserk) (1.17.0)\n",
      "Requirement already satisfied: charset_normalizer<4,>=2 in /opt/conda/lib/python3.12/site-packages (from requests<3.0.0,>=2.28.2->berserk) (3.4.0)\n",
      "Requirement already satisfied: idna<4,>=2.5 in /opt/conda/lib/python3.12/site-packages (from requests<3.0.0,>=2.28.2->berserk) (3.10)\n",
      "Requirement already satisfied: urllib3<3,>=1.21.1 in /opt/conda/lib/python3.12/site-packages (from requests<3.0.0,>=2.28.2->berserk) (2.2.3)\n",
      "Requirement already satisfied: certifi>=2017.4.17 in /opt/conda/lib/python3.12/site-packages (from requests<3.0.0,>=2.28.2->berserk) (2024.8.30)\n"
     ]
    }
   ],
   "source": [
    "!pip install berserk"
   ]
  },
  {
   "cell_type": "code",
   "execution_count": 16,
   "metadata": {},
   "outputs": [],
   "source": [
    "import datetime as d\n",
    "import pandas as pd\n",
    "import chess\n",
    "import berserk as br\n",
    "import zstandard as zstd\n",
    "import io"
   ]
  },
  {
   "cell_type": "markdown",
   "metadata": {},
   "source": [
    "Ouverture d'une session pour l'API lichess"
   ]
  },
  {
   "cell_type": "code",
   "execution_count": 7,
   "metadata": {},
   "outputs": [],
   "source": [
    "token=\"lip_Ok2rwW9r2XwD9UuNHCTm\" "
   ]
  },
  {
   "cell_type": "code",
   "execution_count": 9,
   "metadata": {},
   "outputs": [],
   "source": [
    "session = br.TokenSession(token)\n",
    "client = br.Client(session=session)"
   ]
  },
  {
   "cell_type": "markdown",
   "metadata": {},
   "source": [
    "Création de la base de données des parties du joueur \"paul_et_mike\""
   ]
  },
  {
   "cell_type": "code",
   "execution_count": 12,
   "metadata": {},
   "outputs": [],
   "source": [
    "start = br.utils.to_millis(d.datetime(2020, 12, 22))\n",
    "end = br.utils.to_millis(d.datetime(2024, 10, 31 ))\n",
    "games = client.games.export_by_player(\"paul_et_mike\", since=int(start), until=int(end), max=20000)\n",
    "Base=''.join([str(x) for x in games])"
   ]
  },
  {
   "cell_type": "code",
   "execution_count": 17,
   "metadata": {},
   "outputs": [
    {
     "name": "stdout",
     "output_type": "stream",
     "text": [
      "{'id': 'ltIJ6933', 'rated': True, 'variant': 'standard', 'speed': 'blitz', 'perf': 'blitz', 'createdAt': datetime.datetime(2024, 10, 30, 20, 52, 45, 442000, tzinfo=datetime.timezone.utc), 'lastMoveAt': datetime.datetime(2024, 10, 30, 21, 6, 46, 601000, tzinfo=datetime.timezone.utc), 'status': 'outoftime', 'source': 'pool', 'players': {'white': {'user': {'name': 'paul_et_mike', 'id': 'paul_et_mike'}, 'rating': 1848, 'ratingDiff': 6}, 'black': {'user': {'name': 'ambesten', 'id': 'ambesten'}, 'rating': 1872, 'ratingDiff': -6}}, 'winner': 'white', 'moves': 'e4 e6 d4 b6 c4 Bb7 Nc3 Bb4 Bd3 Bxc3+ bxc3 h6 Nf3 Nf6 Qe2 Qe7 O-O Qf8 h3 g5 a4 Qg7 a5 g4 hxg4 Nxg4 Ne1 Rg8 f3 Nf6 axb6 cxb6 c5 Nh5 Rf2 Ng3 Qe3 h5 cxb6 a6 d5 Qxc3 dxe6 Qxa1 exf7+ Kxf7 Qf4+ Qf6 Qc7 Bc6 Bc4+ Qe6 Bxe6+ Kxe6 e5 Nf5 b7 Ra7 Nd3 a5 Nf4+ Ke7 e6 Rxb7 Ba3+ Kf6 Nxh5+ Kg5 Qxa5 dxe6 Nf4 Kxf4 Qd2+ Kg3 Qc3 Rb1+ Rf1 Rxf1+ Kxf1 Kh2 Qe5+ Ng3+ Kf2 Bd5 Bd6', 'clock': {'initial': 300, 'increment': 3, 'totalTime': 420}}{'id': '7PdZ7cE7', 'rate\n"
     ]
    }
   ],
   "source": [
    "print(Base[0: 1000])"
   ]
  },
  {
   "cell_type": "markdown",
   "metadata": {},
   "source": [
    "Création du dataframe des parties de décembre 2018"
   ]
  },
  {
   "cell_type": "code",
   "execution_count": 18,
   "metadata": {},
   "outputs": [],
   "source": [
    "def decompress_zst(file_path):\n",
    "    with open(file_path, 'rb') as compressed_file:\n",
    "        dctx = zstd.ZstdDecompressor()\n",
    "        decompressed_data = dctx.stream_reader(compressed_file)\n",
    "        return decompressed_data\n",
    "\n"
   ]
  },
  {
   "cell_type": "code",
   "execution_count": 19,
   "metadata": {},
   "outputs": [],
   "source": [
    "def parse_pgn_to_dataframe(pgn_data):\n",
    "    games = []\n",
    "    current_game = {}\n",
    "    \n",
    "    for line in pgn_data:\n",
    "        line = line.strip()\n",
    "        if line.startswith(\"[\"):  # Métadonnées de la partie\n",
    "            key, value = line[1:-1].split(\" \", 1)\n",
    "            current_game[key] = value.strip('\"')\n",
    "        elif line == \"\":  # Fin d'une partie\n",
    "            if current_game:\n",
    "                games.append(current_game)\n",
    "                current_game = {}\n",
    "    \n",
    "    # Convertir les données en DataFrame\n",
    "    return pd.DataFrame(games)\n"
   ]
  },
  {
   "cell_type": "code",
   "execution_count": 83,
   "metadata": {},
   "outputs": [
    {
     "name": "stdout",
     "output_type": "stream",
     "text": [
      "Le fichier est introuvable.\n"
     ]
    }
   ],
   "source": [
    "import os\n",
    "from pathlib import Path\n",
    "file_path = \"D:\\\\Data.zst\"\n",
    "if os.path.exists(file_path):\n",
    "    print(\"Le fichier existe.\")\n",
    "else:\n",
    "    print(\"Le fichier est introuvable.\")"
   ]
  },
  {
   "cell_type": "code",
   "execution_count": 55,
   "metadata": {},
   "outputs": [
    {
     "ename": "FileNotFoundError",
     "evalue": "[Errno 2] No such file or directory: 'D:\\\\Projetdata\\\\Data.zst'",
     "output_type": "error",
     "traceback": [
      "\u001b[0;31m---------------------------------------------------------------------------\u001b[0m",
      "\u001b[0;31mFileNotFoundError\u001b[0m                         Traceback (most recent call last)",
      "Cell \u001b[0;32mIn[55], line 2\u001b[0m\n\u001b[1;32m      1\u001b[0m chemin_fichier \u001b[38;5;241m=\u001b[39m \u001b[38;5;124mr\u001b[39m\u001b[38;5;124m\"\u001b[39m\u001b[38;5;124mD:\u001b[39m\u001b[38;5;124m\\\u001b[39m\u001b[38;5;124mProjetdata\u001b[39m\u001b[38;5;124m\\\u001b[39m\u001b[38;5;124mData.zst\u001b[39m\u001b[38;5;124m\"\u001b[39m\n\u001b[0;32m----> 2\u001b[0m decompressed_data \u001b[38;5;241m=\u001b[39m \u001b[43mdecompress_zst\u001b[49m\u001b[43m(\u001b[49m\u001b[43mchemin_fichier\u001b[49m\u001b[43m)\u001b[49m\n\u001b[1;32m      3\u001b[0m \u001b[38;5;28;01mwith\u001b[39;00m io\u001b[38;5;241m.\u001b[39mTextIOWrapper(decompressed_data, encoding\u001b[38;5;241m=\u001b[39m\u001b[38;5;124m'\u001b[39m\u001b[38;5;124mutf-8\u001b[39m\u001b[38;5;124m'\u001b[39m) \u001b[38;5;28;01mas\u001b[39;00m reader:\n\u001b[1;32m      4\u001b[0m     pgn_content \u001b[38;5;241m=\u001b[39m reader\u001b[38;5;241m.\u001b[39mreadlines()\n",
      "Cell \u001b[0;32mIn[18], line 2\u001b[0m, in \u001b[0;36mdecompress_zst\u001b[0;34m(file_path)\u001b[0m\n\u001b[1;32m      1\u001b[0m \u001b[38;5;28;01mdef\u001b[39;00m \u001b[38;5;21mdecompress_zst\u001b[39m(file_path):\n\u001b[0;32m----> 2\u001b[0m     \u001b[38;5;28;01mwith\u001b[39;00m \u001b[38;5;28;43mopen\u001b[39;49m\u001b[43m(\u001b[49m\u001b[43mfile_path\u001b[49m\u001b[43m,\u001b[49m\u001b[43m \u001b[49m\u001b[38;5;124;43m'\u001b[39;49m\u001b[38;5;124;43mrb\u001b[39;49m\u001b[38;5;124;43m'\u001b[39;49m\u001b[43m)\u001b[49m \u001b[38;5;28;01mas\u001b[39;00m compressed_file:\n\u001b[1;32m      3\u001b[0m         dctx \u001b[38;5;241m=\u001b[39m zstd\u001b[38;5;241m.\u001b[39mZstdDecompressor()\n\u001b[1;32m      4\u001b[0m         decompressed_data \u001b[38;5;241m=\u001b[39m dctx\u001b[38;5;241m.\u001b[39mstream_reader(compressed_file)\n",
      "File \u001b[0;32m/opt/conda/lib/python3.12/site-packages/IPython/core/interactiveshell.py:324\u001b[0m, in \u001b[0;36m_modified_open\u001b[0;34m(file, *args, **kwargs)\u001b[0m\n\u001b[1;32m    317\u001b[0m \u001b[38;5;28;01mif\u001b[39;00m file \u001b[38;5;129;01min\u001b[39;00m {\u001b[38;5;241m0\u001b[39m, \u001b[38;5;241m1\u001b[39m, \u001b[38;5;241m2\u001b[39m}:\n\u001b[1;32m    318\u001b[0m     \u001b[38;5;28;01mraise\u001b[39;00m \u001b[38;5;167;01mValueError\u001b[39;00m(\n\u001b[1;32m    319\u001b[0m         \u001b[38;5;124mf\u001b[39m\u001b[38;5;124m\"\u001b[39m\u001b[38;5;124mIPython won\u001b[39m\u001b[38;5;124m'\u001b[39m\u001b[38;5;124mt let you open fd=\u001b[39m\u001b[38;5;132;01m{\u001b[39;00mfile\u001b[38;5;132;01m}\u001b[39;00m\u001b[38;5;124m by default \u001b[39m\u001b[38;5;124m\"\u001b[39m\n\u001b[1;32m    320\u001b[0m         \u001b[38;5;124m\"\u001b[39m\u001b[38;5;124mas it is likely to crash IPython. If you know what you are doing, \u001b[39m\u001b[38;5;124m\"\u001b[39m\n\u001b[1;32m    321\u001b[0m         \u001b[38;5;124m\"\u001b[39m\u001b[38;5;124myou can use builtins\u001b[39m\u001b[38;5;124m'\u001b[39m\u001b[38;5;124m open.\u001b[39m\u001b[38;5;124m\"\u001b[39m\n\u001b[1;32m    322\u001b[0m     )\n\u001b[0;32m--> 324\u001b[0m \u001b[38;5;28;01mreturn\u001b[39;00m \u001b[43mio_open\u001b[49m\u001b[43m(\u001b[49m\u001b[43mfile\u001b[49m\u001b[43m,\u001b[49m\u001b[43m \u001b[49m\u001b[38;5;241;43m*\u001b[39;49m\u001b[43margs\u001b[49m\u001b[43m,\u001b[49m\u001b[43m \u001b[49m\u001b[38;5;241;43m*\u001b[39;49m\u001b[38;5;241;43m*\u001b[39;49m\u001b[43mkwargs\u001b[49m\u001b[43m)\u001b[49m\n",
      "\u001b[0;31mFileNotFoundError\u001b[0m: [Errno 2] No such file or directory: 'D:\\\\Projetdata\\\\Data.zst'"
     ]
    }
   ],
   "source": [
    "chemin_fichier = r\"D:\\Projetdata\\Data.zst\"\n",
    "decompressed_data = decompress_zst(chemin_fichier)\n",
    "with io.TextIOWrapper(decompressed_data, encoding='utf-8') as reader:\n",
    "    pgn_content = reader.readlines()"
   ]
  },
  {
   "cell_type": "code",
   "execution_count": 20,
   "metadata": {},
   "outputs": [
    {
     "ename": "NameError",
     "evalue": "name 'pgn_content' is not defined",
     "output_type": "error",
     "traceback": [
      "\u001b[0;31m---------------------------------------------------------------------------\u001b[0m",
      "\u001b[0;31mNameError\u001b[0m                                 Traceback (most recent call last)",
      "Cell \u001b[0;32mIn[20], line 1\u001b[0m\n\u001b[0;32m----> 1\u001b[0m Data_decembre_2018 \u001b[38;5;241m=\u001b[39m parse_pgn_to_dataframe(\u001b[43mpgn_content\u001b[49m)\n\u001b[1;32m      2\u001b[0m \u001b[38;5;28mprint\u001b[39m(Data_decembre_2018)\n",
      "\u001b[0;31mNameError\u001b[0m: name 'pgn_content' is not defined"
     ]
    }
   ],
   "source": [
    "Data_decembre_2018 = parse_pgn_to_dataframe(pgn_content)\n",
    "print(Data_decembre_2018)"
   ]
  }
 ],
 "metadata": {
  "kernelspec": {
   "display_name": "base",
   "language": "python",
   "name": "python3"
  },
  "language_info": {
   "codemirror_mode": {
    "name": "ipython",
    "version": 3
   },
   "file_extension": ".py",
   "mimetype": "text/x-python",
   "name": "python",
   "nbconvert_exporter": "python",
   "pygments_lexer": "ipython3",
   "version": "3.12.7"
  }
 },
 "nbformat": 4,
 "nbformat_minor": 2
}
