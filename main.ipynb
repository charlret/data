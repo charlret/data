{
 "cells": [
  {
   "cell_type": "markdown",
   "metadata": {},
   "source": [
    "## \\[Les victoires blanches aux échecs: Etude d'une database lichess\\]"
   ]
  },
  {
   "cell_type": "markdown",
   "metadata": {},
   "source": [
    "__Introduction:__"
   ]
  },
  {
   "cell_type": "markdown",
   "metadata": {},
   "source": [
    "Lichess est une plate-forme d'échecs en ligne, elle est gratuite et open-source. La plate-forme met à disposition des Databases comprenant les parties jouées sur son site chaque mois (elle propose aussi une excellente API). Ces bases sont disponibles ici: https://database.lichess.org/. Pour ce projet, j'ai utilisé la base de décembre 2017."
   ]
  },
  {
   "cell_type": "markdown",
   "metadata": {},
   "source": [
    "Dans ce projet, je vais m'intéresser aux victoires blanches aux échecs. En effet, dans le jeu d'échec, les blancs jouent en premier et cela leur procure un avantage. L'étude d'une database lichess va me permettre de mesurer cet avantage dans la pratique et quels facteurs l'accentuent, le diminuent voire l'inversent! Je vais notamment m'attarder sur le elo (classement) des joueurs et sur l'ouverture (type de début de parties). "
   ]
  },
  {
   "cell_type": "markdown",
   "metadata": {},
   "source": [
    "Dans l'intégralité de ce projet, je vais utiliser différents modules que je vous demande de bien vouloir importer dès à présent en exécutant la cellule de code suivante:"
   ]
  },
  {
   "cell_type": "code",
   "execution_count": 2,
   "metadata": {},
   "outputs": [],
   "source": [
    "import pandas as pd\n",
    "import re\n",
    "import os\n",
    "import matplotlib.pyplot as plt\n",
    "import s3fs\n",
    "import zstandard as zstd\n",
    "import codecs\n"
   ]
  },
  {
   "cell_type": "markdown",
   "metadata": {},
   "source": [
    "__Récupération des données et création de la Database:__"
   ]
  },
  {
   "cell_type": "markdown",
   "metadata": {},
   "source": [
    "La base de données de que je vais utiliser est celle de décembre 2017 récupérable ici: https://database.lichess.org/ . Cependant, elle est au format .zst et est très volumineuse même compressée. Elle n'est donc pas stockée dans mon deposit git mais sur mon SSP cloud. Vous pouvez y accéder via la cellule de code suivante:"
   ]
  },
  {
   "cell_type": "code",
   "execution_count": 2,
   "metadata": {},
   "outputs": [],
   "source": [
    "MY_BUCKET = \"charlret\"\n",
    "##Je sais que les clefs d'accès à notre service ne sont pas censées être présente dans notre code et qu'elles sont rafraichis à intervalle régulier \n",
    "##mais ce code fourni par la plate-forme onyxia et le seul moyen que j'ai trouvé afin d'éviter les erreurs d'accès à mes fichiers\n",
    "\n",
    "os.environ[\"AWS_ACCESS_KEY_ID\"] = 'FVWK0NHMH7H731QHWURF'\n",
    "os.environ[\"AWS_SECRET_ACCESS_KEY\"] = 'RJ5oGkNswBPVxH76iVt2dwizr5+A7HiKEANj0lC7'\n",
    "os.environ[\"AWS_SESSION_TOKEN\"] = 'eyJhbGciOiJIUzUxMiIsInR5cCI6IkpXVCJ9.eyJhY2Nlc3NLZXkiOiJGVldLME5ITUg3SDczMVFIV1VSRiIsImFsbG93ZWQtb3JpZ2lucyI6WyIqIl0sImF1ZCI6WyJtaW5pby1kYXRhbm9kZSIsIm9ueXhpYSIsImFjY291bnQiXSwiYXV0aF90aW1lIjoxNzM0NTEyMjk5LCJhenAiOiJvbnl4aWEiLCJlbWFpbCI6ImNoYXJsZXMuZGVyYWluQGVuc2FlLmZyIiwiZW1haWxfdmVyaWZpZWQiOnRydWUsImV4cCI6MTczNTkwNDk5MCwiZmFtaWx5X25hbWUiOiJEZXJhaW4iLCJnaXZlbl9uYW1lIjoiQ2hhcmxlcyIsImdyb3VwcyI6WyJVU0VSX09OWVhJQSJdLCJpYXQiOjE3MzUzMDAxODgsImlzcyI6Imh0dHBzOi8vYXV0aC5sYWIuc3NwY2xvdWQuZnIvYXV0aC9yZWFsbXMvc3NwY2xvdWQiLCJqdGkiOiIyYTgxNWU1Ny0zZDEyLTRjOGQtOGM2My04Njk3NWU1Nzc3YjIiLCJuYW1lIjoiQ2hhcmxlcyBEZXJhaW4iLCJwb2xpY3kiOiJzdHNvbmx5IiwicHJlZmVycmVkX3VzZXJuYW1lIjoiY2hhcmxyZXQiLCJyZWFsbV9hY2Nlc3MiOnsicm9sZXMiOlsib2ZmbGluZV9hY2Nlc3MiLCJ1bWFfYXV0aG9yaXphdGlvbiIsImRlZmF1bHQtcm9sZXMtc3NwY2xvdWQiXX0sInJlc291cmNlX2FjY2VzcyI6eyJhY2NvdW50Ijp7InJvbGVzIjpbIm1hbmFnZS1hY2NvdW50IiwibWFuYWdlLWFjY291bnQtbGlua3MiLCJ2aWV3LXByb2ZpbGUiXX19LCJyb2xlcyI6WyJvZmZsaW5lX2FjY2VzcyIsInVtYV9hdXRob3JpemF0aW9uIiwiZGVmYXVsdC1yb2xlcy1zc3BjbG91ZCJdLCJzY29wZSI6Im9wZW5pZCBwcm9maWxlIGdyb3VwcyBlbWFpbCIsInNpZCI6ImRmYzMwNjZkLWFjZjEtNDFmZi04ODU2LWUzNjlkMzFiZjk5OCIsInN1YiI6Ijg3MGIwZWRjLTE2ZGQtNDRmOS1hMDRjLWMyNzNiMzcyOGYyNiIsInR5cCI6IkJlYXJlciJ9.fZwXn4U5ak5NCLCz1wZcPNAqwsYcw7GqGavNIVEMUvtEGeg2uIkoO4Zv7COnNtkWsprn0KtGgj9EU7tMoSbqGA'\n",
    "os.environ[\"AWS_DEFAULT_REGION\"] = 'us-east-1'\n",
    "\n",
    "fs = s3fs.S3FileSystem(\n",
    "    client_kwargs={'endpoint_url': 'https://'+'minio.lab.sspcloud.fr'},\n",
    "    key = os.environ[\"AWS_ACCESS_KEY_ID\"], \n",
    "    secret = os.environ[\"AWS_SECRET_ACCESS_KEY\"], \n",
    "    token = os.environ[\"AWS_SESSION_TOKEN\"])\n",
    "\n",
    "file_key = \"diffusion/Data2017.zst\"  \n",
    "output_file = \"Data_compressed.zst\" \n",
    "\n",
    "with fs.open(f\"{MY_BUCKET}/{file_key}\", mode='rb') as s3_file:\n",
    "    with open(output_file, 'wb') as local_file:\n",
    "        local_file.write(s3_file.read())\n",
    "\n"
   ]
  },
  {
   "cell_type": "markdown",
   "metadata": {},
   "source": [
    "Il faut maintenant décompresser cette base qui est déjà très volumineuse. J'ai choisi de la décompresser et de noter les informations décompressées dans un fichier .txt intermédiaire car la mémoire finie par être saturée. Vous pouvez obtenir ce fichier .txt en exécutant la cellule suivante:"
   ]
  },
  {
   "cell_type": "code",
   "execution_count": null,
   "metadata": {},
   "outputs": [],
   "source": [
    "input_file = \"Data_compressed.zst\"   \n",
    "output_file = \"Data.txt\"  \n",
    "\n",
    "with open(input_file, 'rb') as compressed_file:  \n",
    "    decompressor = zstd.ZstdDecompressor()\n",
    "    with decompressor.stream_reader(compressed_file) as reader:  \n",
    "        decoder = codecs.getincrementaldecoder('utf-8')()  \n",
    "        with open(output_file, 'w', encoding='utf-8') as local_file:\n",
    "            while True:\n",
    "                chunk = reader.read(16384)  \n",
    "                if not chunk:\n",
    "                    break\n",
    "                decoded_chunk = decoder.decode(chunk)  \n",
    "                local_file.write(decoded_chunk)  \n",
    "\n",
    "decoded_remainder = decoder.decode(b'', final=True)\n",
    "if decoded_remainder:\n",
    "    with open(output_file, 'a', encoding='utf-8') as local_file:\n",
    "        local_file.write(decoded_remainder)"
   ]
  },
  {
   "cell_type": "markdown",
   "metadata": {},
   "source": [
    "Cette cellule va normalement retourner une erreur du au manque d'espace de stockage. Son exécution permet tout de même d'obtenir un fichier .txt contenant un nombre très important de PGN (format de notations des parties d'échecs). Il faut maintenant transformer ce fichier .txt en un dataframe que l'on pourra manipuler avec pandas. Avant d'exécuter ce code, je vous invite à supprimer le fichier Data2017.zst qui alourdit le service VScode. La cellule suivante permet ensuite de créer le dataframe voulu et l'enregistre au format csv."
   ]
  },
  {
   "cell_type": "code",
   "execution_count": null,
   "metadata": {},
   "outputs": [],
   "source": [
    "def parse_and_filter_txt(txt_path, required_fields=None, max_games=500000):\n",
    "    \n",
    "    if required_fields is None:\n",
    "        required_fields = ['WhiteElo', 'BlackElo', 'Opening', 'TimeControl', 'Termination']\n",
    "    game_data = [] \n",
    "    with open(txt_path, 'r', encoding='utf-8') as f:\n",
    "        txt_content = f.read()\n",
    "    games = txt_content.strip().split(\"\\n\\n\")\n",
    "    for game in games:\n",
    "        lines = game.split(\"\\n\")\n",
    "        metadata_lines = [line for line in lines if line.startswith(\"[\")]\n",
    "        moves_lines = [line for line in lines if not line.startswith(\"[\")]\n",
    "        metadata = dict(re.findall(r'\\[(\\w+) \"(.*?)\"\\]', \"\\n\".join(metadata_lines)))\n",
    "        if all(field in metadata for field in required_fields):\n",
    "            moves = \" \".join(moves_lines).replace('\\n', ' ')  # Joindre les coups en une seule chaîne\n",
    "            metadata['Moves'] = moves\n",
    "            game_data.append(metadata)\n",
    "        if len(game_data) >= max_games:\n",
    "            break\n",
    "    df = pd.DataFrame(game_data)\n",
    "    return df\n",
    "\n",
    "\n",
    "txt_file = \"/home/onyxia/work/data/Data.txt\"\n",
    "required_fields = ['WhiteElo', 'BlackElo', 'Opening', 'TimeControl', 'Termination']\n",
    "df = parse_and_filter_txt(txt_file, required_fields=required_fields, max_games=500000)\n",
    "\n",
    "\n",
    "\n",
    "\n",
    "output_csv = \"Data_uncleaned.csv\"\n",
    "df.to_csv(output_csv, index=False, encoding='utf-8-sig')\n",
    "print(df.shape)"
   ]
  },
  {
   "cell_type": "markdown",
   "metadata": {},
   "source": [
    "Ce code permet de créer un dataframe à partir de notre fichier txt. Je me suis limité à 500 000 parties pour des raisons de taille de fichier. Il sélectionne aussi uniquement les parties contenant les entrées qui nous intéressent (classement des 2 joueurs, résultat de la partie, ouverture, cadence et type de fin de partie). Ce dataframe comprend cependant d'autres entrées. Plus de détails en exécutant le code suivant:"
   ]
  },
  {
   "cell_type": "code",
   "execution_count": null,
   "metadata": {},
   "outputs": [],
   "source": [
    "print(df.columns)"
   ]
  },
  {
   "cell_type": "markdown",
   "metadata": {},
   "source": [
    "On va maintenant supprimer les colonnes inutiles de notre dataframe via le code suivant:"
   ]
  },
  {
   "cell_type": "code",
   "execution_count": null,
   "metadata": {},
   "outputs": [],
   "source": [
    "columns_to_keep = ['Result', 'WhiteElo', 'BlackElo', 'ECO', 'Opening', 'Termination', 'Moves', 'TimeControl']\n",
    "df_filtered = df[columns_to_keep]\n",
    "output_csv = \"Database_finale.csv\"\n",
    "df_filtered.to_csv(output_csv, index=False, encoding='utf-8-sig')\n",
    "print(df_filtered.columns)"
   ]
  },
  {
   "cell_type": "markdown",
   "metadata": {},
   "source": [
    "Une fois cette cellule exécutée avec succès, vous devriez avoir obtenue le fichier .csv Database_finale qui représente la base que je vais utiliser dans la suite de mon projet. Vous pouvez d'ailleurs supprimer les fichiers intermédiaires tels que Data.txt."
   ]
  },
  {
   "cell_type": "markdown",
   "metadata": {},
   "source": [
    "__Les statistiques vérifient-elles notre hypothèse?__"
   ]
  },
  {
   "cell_type": "markdown",
   "metadata": {},
   "source": [
    "On peut désormais entrer dans le vif du sujet et tracer des diagrammes illustrant les victoires de chaque couleur ainsi que les parties nulles.\n",
    "On commence par un diagramme simple présentant les parts de chaque résultat dans l'intégralité de la base via le code suivant:"
   ]
  },
  {
   "cell_type": "code",
   "execution_count": null,
   "metadata": {},
   "outputs": [],
   "source": [
    "csv_file_path = \"/home/onyxia/work/data/Database_finale.csv\"\n",
    "df = pd.read_csv(csv_file_path)\n",
    "valid_results = {\"1-0\", \"0-1\", \"1/2-1/2\"}\n",
    "result_column = \"Result\"\n",
    "df_valid = df[df[result_column].isin(valid_results)]\n",
    "results_count = df_valid[result_column].value_counts()\n",
    "\n",
    "black_wins = results_count.get(\"0-1\", 0)\n",
    "draws = results_count.get(\"1/2-1/2\", 0)\n",
    "white_wins = results_count.get(\"1-0\", 0)\n",
    "total_games = black_wins + draws + white_wins\n",
    "black_wins_percent = (black_wins / total_games) * 100\n",
    "draws_percent = (draws / total_games) * 100\n",
    "white_wins_percent = (white_wins / total_games) * 100\n",
    "\n",
    "labels = [\"Résultats\"]\n",
    "bar_black = [black_wins]\n",
    "bar_draws = [draws]\n",
    "bar_white = [white_wins]\n",
    "\n",
    "plt.bar(labels, bar_black, color=\"black\", label=\"Victoires noires\")\n",
    "plt.bar(labels, bar_draws, bottom=bar_black, color=\"gray\", label=\"Nulles\")\n",
    "plt.bar(labels, bar_white, bottom=[b + d for b, d in zip(bar_black, bar_draws)], color=\"white\", edgecolor=\"black\", label=\"Victoires blanches\")\n",
    "\n",
    "plt.text(labels[0], bar_black[0] / 2, f\"{black_wins_percent:.1f}%\", ha=\"center\", va=\"center\", color=\"white\")\n",
    "plt.text(labels[0], bar_black[0] + bar_draws[0] / 2, f\"{draws_percent:.1f}%\", ha=\"center\", va=\"center\", color=\"black\")\n",
    "plt.text(labels[0], bar_black[0] + bar_draws[0] + bar_white[0] / 2, f\"{white_wins_percent:.1f}%\", ha=\"center\", va=\"center\", color=\"black\")\n",
    "\n",
    "plt.title(\"Répartition des résultats des parties d'échecs\")\n",
    "plt.ylabel(\"Nombre de parties\")\n",
    "plt.legend()\n",
    "plt.show()"
   ]
  },
  {
   "cell_type": "markdown",
   "metadata": {},
   "source": [
    "On trouve qu'effectivement, les blancs gagnent plus souvent que les noirs mais pas de manière très impressionnante. Il peut être intéressant de s'intéresser à la répartition de cet effet sur l'échelle des elos. On va pour cela effectuer le même diagramme que précédemment mais au sein de différentes tranches élos via le code suivant:"
   ]
  },
  {
   "cell_type": "code",
   "execution_count": null,
   "metadata": {},
   "outputs": [],
   "source": [
    "csv_file_path = \"/home/onyxia/work/data/Database_finale.csv\"  \n",
    "df = pd.read_csv(csv_file_path)\n",
    "valid_results = {\"1-0\", \"0-1\", \"1/2-1/2\"}\n",
    "df_valid = df[df[\"Result\"].isin(valid_results)]\n",
    "\n",
    "bins = [0, 1200, 1400, 1600, 1800, 2000, 2400, 3000]\n",
    "labels = [\"<1200\", \"1200-1399\", \"1400-1599\", \"1600-1799\", \"1800-1999\", \"2000-2400\", \"2400+\"]\n",
    "df_valid[\"Tranche_Elo\"] = pd.cut(df_valid[\"WhiteElo\"], bins=bins, labels=labels, right=False)\n",
    "grouped = df_valid.groupby(\"Tranche_Elo\")[\"Result\"].value_counts().unstack(fill_value=0)\n",
    "\n",
    "black_wins = grouped.get(\"0-1\", 0)\n",
    "draws = grouped.get(\"1/2-1/2\", 0)\n",
    "white_wins = grouped.get(\"1-0\", 0)\n",
    "total_results = black_wins + draws + white_wins\n",
    "\n",
    "factor = 10\n",
    "black_wins[\"2400+\"] *= factor\n",
    "draws[\"2400+\"] *= factor\n",
    "white_wins[\"2400+\"] *= factor\n",
    "total_results = black_wins + draws + white_wins\n",
    "\n",
    "\n",
    "x = labels  \n",
    "plt.bar(x, black_wins, color=\"black\", label=\"Victoires noires\")\n",
    "plt.bar(x, draws, bottom=black_wins, color=\"gray\", label=\"Nulles\")\n",
    "plt.bar(x, white_wins, bottom=black_wins + draws, color=\"white\", edgecolor=\"black\", label=\"Victoires blanches\")\n",
    "\n",
    "for i, (bw, ww, total) in enumerate(zip(black_wins, white_wins, total_results)):\n",
    "    if total > 0:\n",
    "        plt.text(i, bw / 2, f\"{bw / total * 100:.1f}%\", color=\"white\", ha=\"center\", va=\"center\", fontsize=9)\n",
    "        plt.text(i, black_wins[i] + draws[i] + ww / 2, f\"{ww / total * 100:.1f}%\", color=\"black\", ha=\"center\", va=\"center\", fontsize=9)\n",
    "\n",
    "\n",
    "plt.title(\"Répartition des résultats par tranche Elo (avec pourcentages)\")\n",
    "plt.xlabel(\"Tranches Elo\")\n",
    "plt.ylabel(\"Nombre de parties\")\n",
    "plt.xticks(rotation=45)\n",
    "plt.legend()\n",
    "plt.tight_layout()\n",
    "plt.show()"
   ]
  },
  {
   "cell_type": "markdown",
   "metadata": {},
   "source": [
    "Premièrement, on retrouve une distribution gaussienne des joueurs sur la plateforme (attention la colonne 2400+ a été agrandi par souci de visibilité). Ensuite, on remarque un effet inverse à bas niveau où les noirs semblent gagner plus souvent que les blancs. Globalement, plus le niveau est élevé plus les blancs semblent dominer (on pourrait dire que les joueurs savent quoi faire avec leur avantage). Cependant, il peut être utile de savoir qu'en réalité, les échecs sont un jeu très annulant et qu'au top niveau mondial, la proportion de nulle est plus élevé que celle des parties décisives même si effectivement, les noirs ne gagnent plus que très rarement. On ne peut pas retrouver ce phénomène ici puisqu'il s'agit de partie en ligne, majoritairement de niveau intermédiaire et jouée dans des cadences courtes (10min<)."
   ]
  },
  {
   "cell_type": "markdown",
   "metadata": {},
   "source": [
    "J'ai avancé l'argument de \"savoir quoi faire\" pour expliquer le fait que l'avantage des blancs est plus visible à haut elo mais un autre paramètre important influençant la qualité des coups joués est la cadence. On peut donc s'intéresser au même graphique mais par cadence:"
   ]
  },
  {
   "cell_type": "code",
   "execution_count": null,
   "metadata": {},
   "outputs": [],
   "source": [
    "csv_file_path = \"/home/onyxia/work/data/Database_finale.csv\"\n",
    "df = pd.read_csv(csv_file_path)\n",
    "valid_results = {\"1-0\", \"0-1\", \"1/2-1/2\"}\n",
    "time_controls = [\"600+0\", \"300+3\", \"180+2\", \"60+0\"]  # Cadences à analyser (sous la forme capital de départ en s + incrément en s)\n",
    "\n",
    "bins = [0, 1200, 1400, 1600, 1800, 2000, 2400, 3000]\n",
    "labels = [\"<1200\", \"1200-1399\", \"1400-1599\", \"1600-1799\", \"1800-1999\", \"2000-2400\", \"2400+\"]\n",
    "\n",
    "\n",
    "fig, axes = plt.subplots(1, len(time_controls), figsize=(18, 6), sharey=True)\n",
    "\n",
    "for ax, time_control in zip(axes, time_controls):\n",
    "    df_valid = df[(df[\"Result\"].isin(valid_results)) & (df[\"TimeControl\"] == time_control)]\n",
    "    df_valid[\"Tranche_Elo\"] = pd.cut(df_valid[\"WhiteElo\"], bins=bins, labels=labels, right=False)\n",
    "    grouped = df_valid.groupby(\"Tranche_Elo\")[\"Result\"].value_counts().unstack(fill_value=0)\n",
    "\n",
    "    black_wins = grouped.get(\"0-1\", 0)\n",
    "    draws = grouped.get(\"1/2-1/2\", 0)\n",
    "    white_wins = grouped.get(\"1-0\", 0)\n",
    "    total_results = black_wins + draws + white_wins\n",
    "\n",
    "    x = labels\n",
    "    ax.bar(x, black_wins, color=\"black\", label=\"Victoires noires\")\n",
    "    ax.bar(x, draws, bottom=black_wins, color=\"gray\", label=\"Nulles\")\n",
    "    ax.bar(x, white_wins, bottom=black_wins + draws, color=\"white\", edgecolor=\"black\", label=\"Victoires blanches\")\n",
    "\n",
    "    for i, (bw, ww, total) in enumerate(zip(black_wins, white_wins, total_results)):\n",
    "        if total > 0:\n",
    "            ax.text(i, bw / 2, f\"{bw / total * 100:.1f}%\", color=\"white\", ha=\"center\", va=\"center\", fontsize=9)\n",
    "            ax.text(i, black_wins[i] + draws[i] + ww / 2, f\"{ww / total * 100:.1f}%\", color=\"black\", ha=\"center\", va=\"center\", fontsize=9)\n",
    "\n",
    "    ax.set_title(f\"Cadence : {time_control}\")\n",
    "    ax.set_xlabel(\"Tranches Elo\")\n",
    "    ax.set_xticks(range(len(labels)))\n",
    "    ax.set_xticklabels(labels, rotation=45)\n",
    "\n",
    "fig.suptitle(\"Répartition des résultats par tranche Elo et cadence\")\n",
    "axes[0].set_ylabel(\"Nombre de parties\")\n",
    "axes[-1].legend(loc=\"upper right\")\n",
    "plt.tight_layout(rect=[0, 0, 1, 0.95])\n",
    "plt.show()"
   ]
  },
  {
   "cell_type": "markdown",
   "metadata": {},
   "source": [
    "Ces graphiques représentent les résultats pour 4 des cadences les plus populaires sur lichess de droite à gauche et aussi de la plus longue à la plus courte: 10+0, 5+3, 3+2 et 1+0 (exprimé ici en min+s ce qui est plus standard). On remarque que en 1+0, l'absence de temps de réflexion a fait que les noirs gagnent plus que blancs jusqu'à 1600 elo (contre 1400 sans critère de cadence). De plus, la domination blanche à haut elo est aussi plus faible. De plus, dans la cadence la plus longue étudiée ici (10+0), les blancs semblent quasiment égaliser à bas elo tandis qu'à haut elo leur domination est tout aussi claire. Les cadences centrales se caractérisent par la présence d'un incrément qui théoriquement permet aux deux joueurs d'éviter de perdre au temps s'ils jouent assez vite. En 3+2, la cadence la plus courte des deux, les noirs dominent toujours dans la catégorie 1200< mais semblent égaliser dès la catégorie suivante malgré le faible temps. Ainsi, le temps de réflexion disponible semble favoriser les blancs à tout elo tandis que la présence d'un incrément atténue leur domination à haut elo. "
   ]
  },
  {
   "cell_type": "markdown",
   "metadata": {},
   "source": [
    "De manière générale, il semble donc que les facteurs améliorant la qualité des coups joués (temps de réflexion ou niveau des joueurs) tend à faire capitaliser les blancs sur leur avantage du trait (il joue en premier)."
   ]
  },
  {
   "cell_type": "markdown",
   "metadata": {},
   "source": [
    "__Un peu de prédiction__"
   ]
  },
  {
   "cell_type": "markdown",
   "metadata": {},
   "source": [
    "On va maintenant essayer de prédire le résultat d'une partie en connaissant les joueurs (leur elo) et la cadence de jeu à l'aide de notre base.\n",
    "Pour cela, il faut par exemple prêter attention au fait que la cadence est de type string et il faut donc créer des variables supplémentaires (increment et temps total) qui elles seront de type int. On garde cependant les elos des 2 joueurs et l'on utilise pas la différence de elo du aux effets statistiques vu dans la partie précédente."
   ]
  },
  {
   "cell_type": "code",
   "execution_count": null,
   "metadata": {},
   "outputs": [],
   "source": [
    "from sklearn.model_selection import train_test_split\n",
    "from sklearn.ensemble import RandomForestClassifier\n",
    "from sklearn.metrics import accuracy_score, classification_report\n",
    "\n",
    "csv_file_path = \"/home/onyxia/work/data/Database_finale.csv\"\n",
    "df = pd.read_csv(csv_file_path)\n",
    "\n",
    "df[['TotalTime', 'Increment']] = df['TimeControl'].str.split('+', expand=True)\n",
    "df['TotalTime'] = pd.to_numeric(df['TotalTime'], errors='coerce')\n",
    "df['Increment'] = pd.to_numeric(df['Increment'], errors='coerce')\n",
    "df['TotalTime'] = df['TotalTime'].fillna(0)\n",
    "df['Increment'] = df['Increment'].fillna(0)\n",
    "\n",
    "X = df[['WhiteElo', 'BlackElo', 'TotalTime', 'Increment']]  \n",
    "y = df['Result']  \n",
    "\n",
    "X_train, X_test, y_train, y_test = train_test_split(X, y, test_size=0.2, random_state=42)\n",
    "\n",
    "model = RandomForestClassifier(class_weight= 'balanced', random_state=42)\n",
    "model.fit(X_train, y_train)\n",
    "\n",
    "y_pred = model.predict(X_test)\n",
    "\n",
    "print(\"Accuracy:\", accuracy_score(y_test, y_pred))\n",
    "print(classification_report(y_test, y_pred))"
   ]
  },
  {
   "cell_type": "markdown",
   "metadata": {},
   "source": [
    "Le modèle n'est pas très précis, il a notamment énormément de mal à prédire les parties nulles qui ne sont pas très représentées dans les données.  Les prédictions de gain noir ou blanc ont quant à elle des performances relativement équivalentes."
   ]
  },
  {
   "cell_type": "markdown",
   "metadata": {},
   "source": [
    "On va maintenant essayer de prédire des résultats de parties via le code suivant:"
   ]
  },
  {
   "cell_type": "code",
   "execution_count": null,
   "metadata": {},
   "outputs": [],
   "source": [
    "def predict_game_result(white_elo, black_elo, total_time, increment):\n",
    "    partie_data = pd.DataFrame({\n",
    "        'WhiteElo': [white_elo],\n",
    "        'BlackElo': [black_elo],\n",
    "        'TotalTime': [total_time],\n",
    "        'Increment': [increment]})\n",
    "    proba = model.predict_proba(partie_data)\n",
    "    print(f\"Probabilité de 0-1 (Défaite blanc) : {proba[0][0]:.4f}\")\n",
    "    print(f\"Probabilité de 1-0 (Victoire blanc) : {proba[0][1]:.4f}\")\n",
    "    print(f\"Probabilité de 1/2-1/2 (Match nul) : {proba[0][2]:.4f}\")\n",
    "    prediction = model.predict(partie_data)\n",
    "    print(f\"Le résultat prédit pour cette partie est : {prediction[0]}\")\n",
    "\n",
    "\n",
    "white_elo = 1800\n",
    "black_elo = 1845\n",
    "total_time = 600  ##de retour en s\n",
    "increment = 5      \n",
    "\n",
    "predict_game_result(white_elo, black_elo, total_time, increment)"
   ]
  },
  {
   "cell_type": "markdown",
   "metadata": {},
   "source": [
    "Vous pouvez maintenant essayer de rentrer les valeurs qui vous intéressent et prédire des résultats de parties. Attention cependant, le modèle est très peu performant et certaines prédictions sont incohérentes."
   ]
  },
  {
   "cell_type": "markdown",
   "metadata": {},
   "source": [
    "__Conclusion:__"
   ]
  },
  {
   "cell_type": "markdown",
   "metadata": {},
   "source": [
    "Les statistiques faites sur les données sont très satisfaisantes, donnent des résultats attendus et logiques. Cependant, le modèle utilisé est très faible et ses prédictions sont parfois incohérentes. La présence de nulle en très faible représentation dans les parties en ligne semble compliquer les prédictions. L'ajout d'informations personnalisées sur les joueurs pourraient permettre d'améliorer les prédictions du modèle. "
   ]
  },
  {
   "cell_type": "markdown",
   "metadata": {},
   "source": [
    "__Pour aller plus loin:__"
   ]
  },
  {
   "cell_type": "markdown",
   "metadata": {},
   "source": [
    "J'ai choisi un sujet lié à une de mes passions, je me suis donc plutôt amusé (notamment à effectuer les statistiques) dans ce projet. Cependant, je me suis limité à un modèle très théorique qui ne prend en compte que des informations \"extérieures\" à la partie. J'aurais aimé pouvoir créer un modèle personnalisé qui aurait pris en compte l'historique des deux joueurs (via l'API lichess qui permet de récupérer toutes les parties d'un joueur) mais aussi par exemple la position sur l'échiquier et le \"style\" des joueurs. J'aurais aussi aimé effectuer des statistiques sur l'ouverture mais je ne voulais pas surcharger la partie stat. "
   ]
  }
 ],
 "metadata": {
  "kernelspec": {
   "display_name": "base",
   "language": "python",
   "name": "python3"
  },
  "language_info": {
   "codemirror_mode": {
    "name": "ipython",
    "version": 3
   },
   "file_extension": ".py",
   "mimetype": "text/x-python",
   "name": "python",
   "nbconvert_exporter": "python",
   "pygments_lexer": "ipython3",
   "version": "3.12.7"
  }
 },
 "nbformat": 4,
 "nbformat_minor": 2
}
